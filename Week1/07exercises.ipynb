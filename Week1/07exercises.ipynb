{
 "cells": [
  {
   "cell_type": "markdown",
   "metadata": {},
   "source": [
    "Executing cells is not the same as learning.  Now is the time for you\n",
    "to truly learn by writing some code on your own.  You can add your own\n",
    "cells to this worksheet, save your work, and then commit your\n",
    "solutions to a fork of our class repo.\n",
    "\n",
    "****Warning:**** Depending on your background, you may feel you are\n",
    "unprepared for this task.  **Make as much progress as you can.** The\n",
    "good news is that with Google, StackOverflow, etc., you are more\n",
    "powerful than you know.  Leverage the resources at your disposal to\n",
    "make the most of our short time together.\n",
    "\n"
   ]
  },
  {
   "cell_type": "markdown",
   "metadata": {},
   "source": [
    "## Exercise 1.1\n",
    "\n"
   ]
  },
  {
   "cell_type": "markdown",
   "metadata": {},
   "source": [
    "For a list `L`, what is the meaning of `L[-1]`, `L[-2]`, `L[1:3]`,\n",
    "`L[:]`, `L[-3:-1]`, `L[-2:]`, `L[::-1]`?  Explore this by building\n",
    "some lists and executing cells right here in this Jupyter notebook.\n",
    "(If you get stuck, search for **slicing**.)\n",
    "\n"
   ]
  },
  {
   "cell_type": "markdown",
   "metadata": {},
   "source": [
    "## Exercise 1.2\n",
    "\n"
   ]
  },
  {
   "cell_type": "markdown",
   "metadata": {},
   "source": [
    "Define a function `digits()` which takes a positive integer and\n",
    "returns the number of digits in its decimal expansion.  For instance,\n",
    "`digits(321)` evaluates to `3`.\n",
    "\n",
    "How many digits are in the decimal expansion of `2**1000`?\n",
    "\n"
   ]
  },
  {
   "cell_type": "code",
   "execution_count": 10,
   "metadata": {},
   "outputs": [],
   "source": [
    "import math\n",
    "\n",
    "def digits(num):\n",
    "    \n",
    "    #This computes the number of digits in a very mathematical way using log_10 and taking the floor of the result\n",
    "    \n",
    "    return math.floor(math.log10(num)) + 1\n"
   ]
  },
  {
   "cell_type": "markdown",
   "metadata": {},
   "source": [
    "## Exercise 1.3\n",
    "\n"
   ]
  },
  {
   "cell_type": "markdown",
   "metadata": {},
   "source": [
    "Define `harmonic` so that `harmonic(n)` is the sum of the first `n`\n",
    "terms of the harmonic series, i.e., `harmonic(4)` equals $1 + \\frac{1}{2} + \\frac{1}{3} + \\frac{1}{4}$.\n",
    "\n"
   ]
  },
  {
   "cell_type": "code",
   "execution_count": 11,
   "metadata": {},
   "outputs": [],
   "source": [
    "def harmonic(n):\n",
    "    \n",
    "    #This variable will store the numbers we add\n",
    "    series = 0\n",
    "    \n",
    "    #This for loop will add the fractions together\n",
    "    for k in range(1, n+1):   \n",
    "        series = series + (1/k)\n",
    "        \n",
    "    return series\n",
    "     "
   ]
  },
  {
   "cell_type": "markdown",
   "metadata": {},
   "source": [
    "## Exercise 1.4\n",
    "\n"
   ]
  },
  {
   "cell_type": "markdown",
   "metadata": {},
   "source": [
    "Define a function `uniqued` which takes a list and removes all\n",
    "repeated entries.  For instance, `uniqued([1,5,1,4])` equals `[1,5,4]`.\n",
    "\n"
   ]
  },
  {
   "cell_type": "markdown",
   "metadata": {},
   "source": [
    "## Exercise 1.5\n",
    "\n"
   ]
  },
  {
   "cell_type": "markdown",
   "metadata": {},
   "source": [
    "Explain what is happening in the code below (e.g., what does this say about **associativity** of `+`?)\n",
    "\n"
   ]
  },
  {
   "cell_type": "code",
   "execution_count": 1,
   "metadata": {},
   "outputs": [],
   "source": [
    "eps = 1.0\n",
    "while 1.0 + eps != 1.0:\n",
    "    eps = eps / 2.0\n",
    "print(1.0 + (eps - eps))\n",
    "print((1.0 + eps) - eps)"
   ]
  },
  {
   "cell_type": "markdown",
   "metadata": {},
   "source": [
    "If you (don&rsquo;t?) like this, you might enjoy reading \\*[What Every\n",
    "Computer Scientist Should Know About Floating-Point\n",
    "Arithmetic]([https://docs.oracle.com/cd/E19957-01/806-3568/ncg_goldberg.html](https://docs.oracle.com/cd/E19957-01/806-3568/ncg_goldberg.html))\\*.\n",
    "\n"
   ]
  },
  {
   "cell_type": "markdown",
   "metadata": {},
   "source": [
    "## Exercise 1.6\n",
    "\n"
   ]
  },
  {
   "cell_type": "markdown",
   "metadata": {},
   "source": [
    "Write a function `is_palindrome` which takes a string and returns\n",
    "`True` if it is a palindrome, and `False` if not.  Find an English\n",
    "word list (such as [https://github.com/dwyl/english-words>](https://github.com/dwyl/english-words>)which\n",
    "includes some Python examples) to find English palindromes.\n",
    "\n",
    "There are many entertaining games to play with word lists.  Find more\n",
    "examples of words like **almost** and **wronged** whose letters are in\n",
    "alphabetical or reverse-alphabetic order.  Is the spelling &ldquo;rule&rdquo; **i\n",
    "before e except after c** valid?  Can you make a histogram showing\n",
    "frequency of letters in English words?  How might you visualize\n",
    "frequency of pairs of letters?\n",
    "\n"
   ]
  },
  {
   "cell_type": "markdown",
   "metadata": {},
   "source": [
    "## Exercise 1.7\n",
    "\n"
   ]
  },
  {
   "cell_type": "markdown",
   "metadata": {},
   "source": [
    "Define a function `flip` which takes an integer and reverses its\n",
    "digits, so that `flip(17)` evaluates to `71`.  By repeatedly replacing\n",
    "`x` with `x + flip(x)`, we often find palindromic numbers this way,\n",
    "e.g., 192 + 291 is 483, and 483 + 384 is 867, and and 867 + 768 is\n",
    "1635, and 1635 + 5361 is 6996, a palindrome!  Experimentally, does\n",
    "this always happen?  For fun, use `matplotlib` to make some graphs.\n",
    "\n",
    "This exercise is designed for you to worry about types, e.g., `'17' +\n",
    "'71'` equals `'1771'` because strings are concatenated with plus.\n",
    "\n"
   ]
  },
  {
   "cell_type": "code",
   "execution_count": 64,
   "metadata": {},
   "outputs": [],
   "source": [
    "import matplotlib.pyplot as plt\n",
    "\n",
    "#This function will be the flip function that takes numbers to their flips, i.e. 17 -> 71\n",
    "def flip(n):\n",
    "    \n",
    "    strn = str(n)\n",
    "\n",
    "    return int(strn[::-1])\n",
    "\n",
    "#This function determines if a number is a palindromic number. It outputs boolean values\n",
    "def ispalindrome(n):\n",
    "    return n == flip(n)\n",
    "\n",
    "#This function produces 3 pieces of data: [number, palindromic number, number of steps]\n",
    "#Essentially, we take a number n and perform the palindromic iteration process until we hit a palindromic number\n",
    "#We also take one more input k that will serve as a terminating point in the iterating process if we fail to hit a\n",
    "#palindromic number\n",
    "def palindromegenerator(n, k):\n",
    "    \n",
    "    #lst represents the data we are looking for, i counts the number of iterations of the palindromic search process\n",
    "    #and pnum is the number that will eventually turn into a palindromic number\n",
    "    i = 0\n",
    "    pnum = n\n",
    "    \n",
    "    #This while loop checks to make sure we have not iterated the process too far and that pnum is not a palindromic\n",
    "    #number. Otherwise, once we go far enough or find a palindromic number we spit out our answer\n",
    "    _ispalindrome = ispalindrome(pnum)\n",
    "    while (i < k) and (not _ispalindrome):\n",
    "        pnum = pnum + flip(pnum)\n",
    "        i = i + 1\n",
    "        _ispalindrome = ispalindrome(pnum)\n",
    "    \n",
    "    return _ispalindrome, pnum, i\n",
    "\n",
    "#This is a recursive version of the function above\n",
    "def alt_palindromegenerator(n,k,num_iter=0):\n",
    "    _ispalindrome = ispalindrome(n)\n",
    "    if _ispalindrome or k == 0:\n",
    "        return _ispalindrome,n,num_iter\n",
    "    else:\n",
    "        return alt_palindromegenerator(n+flip(n),k-1,num_iter+1)\n",
    "    \n",
    "#This function outputs a plot that looks numbers up to x versus the number of iterations of the palindromic process\n",
    "#to eventually hit a palindromic number. AGAIN recall that this will only go up to some specified k in case a number\n",
    "#never becomes palindromic\n",
    "def plotpalindromic(x, k):\n",
    "    \n",
    "    #These lists are the lists we will be cross-plotting\n",
    "    #numlst = []\n",
    "    #iterationlst = []\n",
    "    \n",
    "    #This \"for\" loop computes palindromegenerator(n, k) to get the data for the number of iterations and then adds it to\n",
    "    #iterationlst\n",
    "    #for n in range(1, x + 1):\n",
    "    \n",
    "        #numlst.append(n)\n",
    "        #iterationlst.append(palindromegenerator(n, k)[2])\n",
    "     \n",
    "    #This final bit adds generates the plot we want\n",
    "    plt.plot(range(1,x+1), [palindromegenerator(n,k)[2] for n in range(1,x+1)])\n",
    "    plt.xlabel('numbers')\n",
    "    plt.ylabel('number of iterations')\n",
    "    plt.show()\n",
    "    \n",
    "def alt_plotpalindromic(x, k):\n",
    "    \n",
    "    #These lists are the lists we will be cross-plotting\n",
    "    numlst = []\n",
    "    iterationlst = []\n",
    "    \n",
    "    #This \"for\" loop computes palindromegenerator(n, k) to get the data for the number of iterations and then adds it to\n",
    "    #iterationlst\n",
    "    for n in range(1, x + 1):\n",
    "    \n",
    "        numlst.append(n)\n",
    "        iterationlst.append(palindromegenerator(n, k)[2])\n",
    "     \n",
    "    #This final bit adds generates the plot we want\n",
    "    plt.plot(numlst, iterationlst)\n",
    "    plt.xlabel('natural numbers')\n",
    "    plt.ylabel('number of iterations')\n",
    "    plt.show()\n",
    "    \n",
    "class Palindrome_Generator:\n",
    "    def __init__(self,n,k):\n",
    "        self.n = n\n",
    "        self.k = k\n",
    "    def calculate(self):\n",
    "        self._ispalindrome, self.pnum, self.i = palindromegenerator(self.n,self.k)\n",
    "    \n",
    "    \n",
    "#We call numbers that are not palindromic LYCHREL NUMBERS. So it would be great to have a function that \n",
    "#creates a list of potential Lychrel numbers up to a number x. Again, we will only compute up to a certain iteration number. So the\n",
    "#list will depend on that threshold.\n",
    "def lychrelnumberlst(x, k):\n",
    "    \n",
    "    lst = []\n",
    "    \n",
    "    for n in range(1, x + 1):\n",
    "        if not palindromegenerator(n, k)[0]:\n",
    "            lst.append(n)\n",
    "    \n",
    "    return lst\n",
    "\n",
    "#Notice that if we take a potential lychrel number, say 196, every iteration of the palindromic process will create\n",
    "#another lychrel number. We call the initial numbers of such chains the ROOT lychrel number. So it would be great to\n",
    "#have a function that will generate a list of root lychrel numbers.\n",
    "def rootlychrelnumberlst(x, k):\n",
    "    \n",
    "    rootlst = []\n",
    "    lst = lychrelnumberlst(x, k)\n",
    "    \n",
    "    #The idea behind this algorithm is to add the smallest element of the list of lychrel numbers (which is a root\n",
    "    #lychrel number) to a list of all the roots. Then remove all the numbers that are just iterations of that root from\n",
    "    #the list of all lychrel numbers. We iterate this process until the list of all lychrel numbers up to x is\n",
    "    #exhausted.\n",
    "    while len(lst) > 0:\n",
    "        \n",
    "        #We set mlychrel to be the smallest lychrel number we have and add it to our root list\n",
    "        mlychrel = min(lst)\n",
    "        rootlst.append(mlychrel)\n",
    "        \n",
    "        #This \"while\" loop removes all the iterations of our root lychrel number from the list of all lychrel numbers\n",
    "        while mlychrel <= max(lst):\n",
    "            \n",
    "            if mlychrel in lst:\n",
    "                lst.remove(mlychrel)\n",
    "            \n",
    "            mlychrel = mlychrel + flip(mlychrel)\n",
    "            \n",
    "            #This \"if\" line addresses an edge case where the last element of a list is removed inside the \"while\" loop.\n",
    "            #If this happens, then max(lst) will return an error while checking the conditions of the \"while\" loop.\n",
    "            #So we break before this happens.\n",
    "            if len(lst) == 0:\n",
    "                break\n",
    "            \n",
    "    return rootlst\n",
    "\n",
    "#This function computes the natural density of the lychrel numbers. Again, the density depends on how far we search\n",
    "#and how many times we iterate.\n",
    "def densityoflychrel(x, k):\n",
    "    \n",
    "    return len(lychrelnumberlst(x, k))/x\n",
    "   "
   ]
  },
  {
   "cell_type": "code",
   "execution_count": 18,
   "metadata": {},
   "outputs": [
    {
     "data": {
      "text/plain": [
       "0.115752"
      ]
     },
     "execution_count": 18,
     "metadata": {},
     "output_type": "execute_result"
    }
   ],
   "source": [
    "densityoflychrel(1000000, 500)"
   ]
  },
  {
   "cell_type": "code",
   "execution_count": 13,
   "metadata": {},
   "outputs": [
    {
     "data": {
      "text/plain": [
       "[196, 295, 394, 493, 592, 689, 691, 788, 790, 879, 978, 986]"
      ]
     },
     "execution_count": 13,
     "metadata": {},
     "output_type": "execute_result"
    }
   ],
   "source": [
    "rootlychrelnumberlst(1000, 500)"
   ]
  },
  {
   "cell_type": "code",
   "execution_count": 9,
   "metadata": {},
   "outputs": [
    {
     "data": {
      "text/plain": [
       "False"
      ]
     },
     "execution_count": 9,
     "metadata": {},
     "output_type": "execute_result"
    }
   ],
   "source": [
    "5 in [1,2,3,4]"
   ]
  },
  {
   "cell_type": "code",
   "execution_count": 2,
   "metadata": {},
   "outputs": [
    {
     "data": {
      "text/plain": [
       "(True, 33, 1)"
      ]
     },
     "execution_count": 2,
     "metadata": {},
     "output_type": "execute_result"
    }
   ],
   "source": [
    "alt_palindromegenerator(12,10)"
   ]
  },
  {
   "cell_type": "code",
   "execution_count": 5,
   "metadata": {},
   "outputs": [
    {
     "data": {
      "text/plain": [
       "(False,\n",
       " 1069,\n",
       " (False,\n",
       "  10670,\n",
       "  (False,\n",
       "   18271,\n",
       "   (False, 35552, (False, 61105, (False, 111221, (True, 233332, 7)))))))"
      ]
     },
     "execution_count": 5,
     "metadata": {},
     "output_type": "execute_result"
    }
   ],
   "source": [
    "alt_palindromegenerator(188,500)"
   ]
  },
  {
   "cell_type": "code",
   "execution_count": null,
   "metadata": {},
   "outputs": [],
   "source": []
  },
  {
   "cell_type": "code",
   "execution_count": 6,
   "metadata": {},
   "outputs": [
    {
     "data": {
      "text/plain": [
       "(False,\n",
       " 1069,\n",
       " (False,\n",
       "  10670,\n",
       "  (False,\n",
       "   18271,\n",
       "   (False, 35552, (False, 61105, (False, 111221, (True, 233332, 7)))))))"
      ]
     },
     "execution_count": 6,
     "metadata": {},
     "output_type": "execute_result"
    }
   ],
   "source": [
    "alt_palindromegenerator(188,500)"
   ]
  },
  {
   "cell_type": "code",
   "execution_count": 12,
   "metadata": {},
   "outputs": [
    {
     "data": {
      "text/plain": [
       "(True, 233332, 6)"
      ]
     },
     "execution_count": 12,
     "metadata": {},
     "output_type": "execute_result"
    }
   ],
   "source": [
    "alt_palindromegenerator(188,500)"
   ]
  },
  {
   "cell_type": "code",
   "execution_count": 11,
   "metadata": {},
   "outputs": [
    {
     "data": {
      "text/plain": [
       "(False,\n",
       " 1752847268748579360856038715960044425725757992013037000002688443068871978931327317473003204842296809284684808907596472017593238402409285712633138880168870244986299999740201399757418514440178428829658064964857772648267,\n",
       " 500)"
      ]
     },
     "execution_count": 11,
     "metadata": {},
     "output_type": "execute_result"
    }
   ],
   "source": [
    "alt_palindromegenerator(196,500)"
   ]
  },
  {
   "cell_type": "code",
   "execution_count": 13,
   "metadata": {},
   "outputs": [
    {
     "data": {
      "text/plain": [
       "(True, 44044, 5)"
      ]
     },
     "execution_count": 13,
     "metadata": {},
     "output_type": "execute_result"
    }
   ],
   "source": [
    "alt_palindromegenerator(88,500)"
   ]
  },
  {
   "cell_type": "code",
   "execution_count": 17,
   "metadata": {},
   "outputs": [
    {
     "data": {
      "text/plain": [
       "(True, 88, 0)"
      ]
     },
     "execution_count": 17,
     "metadata": {},
     "output_type": "execute_result"
    }
   ],
   "source": [
    "alt_palindromegenerator(88,500)"
   ]
  },
  {
   "cell_type": "code",
   "execution_count": 18,
   "metadata": {},
   "outputs": [
    {
     "data": {
      "text/plain": [
       "(True, 233332, 7)"
      ]
     },
     "execution_count": 18,
     "metadata": {},
     "output_type": "execute_result"
    }
   ],
   "source": [
    "alt_palindromegenerator(188,500)"
   ]
  },
  {
   "cell_type": "code",
   "execution_count": 19,
   "metadata": {},
   "outputs": [
    {
     "data": {
      "text/plain": [
       "(False,\n",
       " 931423633824289735373068912980022207417878996006463505496394221534435934470613658741952102416192959097792354454298681058301624201150137856317064440634435122492605494375600699878703812220089208969284526982429436324128,\n",
       " 500)"
      ]
     },
     "execution_count": 19,
     "metadata": {},
     "output_type": "execute_result"
    }
   ],
   "source": [
    "alt_palindromegenerator(196,500\n",
    "                       )"
   ]
  },
  {
   "cell_type": "code",
   "execution_count": 20,
   "metadata": {},
   "outputs": [
    {
     "data": {
      "text/plain": [
       "(True, 33, 1)"
      ]
     },
     "execution_count": 20,
     "metadata": {},
     "output_type": "execute_result"
    }
   ],
   "source": [
    "alt_palindromegenerator(12,500)"
   ]
  },
  {
   "cell_type": "code",
   "execution_count": 30,
   "metadata": {},
   "outputs": [
    {
     "data": {
      "text/plain": [
       "(True, 233332, 7)"
      ]
     },
     "execution_count": 30,
     "metadata": {},
     "output_type": "execute_result"
    }
   ],
   "source": [
    "palindromegenerator(188,500)"
   ]
  },
  {
   "cell_type": "code",
   "execution_count": 31,
   "metadata": {},
   "outputs": [
    {
     "data": {
      "text/plain": [
       "(True, 33, 1)"
      ]
     },
     "execution_count": 31,
     "metadata": {},
     "output_type": "execute_result"
    }
   ],
   "source": [
    "palindromegenerator(12,500)"
   ]
  },
  {
   "cell_type": "code",
   "execution_count": 32,
   "metadata": {},
   "outputs": [
    {
     "data": {
      "text/plain": [
       "(False,\n",
       " 931423633824289735373068912980022207417878996006463505496394221534435934470613658741952102416192959097792354454298681058301624201150137856317064440634435122492605494375600699878703812220089208969284526982429436324128,\n",
       " 500)"
      ]
     },
     "execution_count": 32,
     "metadata": {},
     "output_type": "execute_result"
    }
   ],
   "source": [
    "palindromegenerator(196,500)"
   ]
  },
  {
   "cell_type": "code",
   "execution_count": 33,
   "metadata": {},
   "outputs": [
    {
     "data": {
      "text/plain": [
       "(True, 11, 0)"
      ]
     },
     "execution_count": 33,
     "metadata": {},
     "output_type": "execute_result"
    }
   ],
   "source": [
    "palindromegenerator(11,500)"
   ]
  },
  {
   "cell_type": "code",
   "execution_count": 37,
   "metadata": {},
   "outputs": [
    {
     "data": {
      "image/png": "[encoded data removed]",
      "text/plain": [
       "<Figure size 432x288 with 1 Axes>"
      ]
     },
     "metadata": {
      "needs_background": "light"
     },
     "output_type": "display_data"
    }
   ],
   "source": [
    "plotpalindromic(10000, 500)"
   ]
  },
  {
   "cell_type": "code",
   "execution_count": 38,
   "metadata": {},
   "outputs": [
    {
     "ename": "NameError",
     "evalue": "name 'fliter' is not defined",
     "output_type": "error",
     "traceback": [
      "\u001b[0;31m---------------------------------------------------------------------------\u001b[0m",
      "\u001b[0;31mNameError\u001b[0m                                 Traceback (most recent call last)",
      "\u001b[0;32m<ipython-input-38-e361219f282c>\u001b[0m in \u001b[0;36m<module>\u001b[0;34m\u001b[0m\n\u001b[0;32m----> 1\u001b[0;31m \u001b[0mfliter\u001b[0m\u001b[0;34m\u001b[0m\u001b[0;34m\u001b[0m\u001b[0m\n\u001b[0m",
      "\u001b[0;31mNameError\u001b[0m: name 'fliter' is not defined"
     ]
    }
   ],
   "source": [
    "fliter"
   ]
  },
  {
   "cell_type": "code",
   "execution_count": 39,
   "metadata": {},
   "outputs": [
    {
     "data": {
      "text/plain": [
       "filter"
      ]
     },
     "execution_count": 39,
     "metadata": {},
     "output_type": "execute_result"
    }
   ],
   "source": [
    "filter"
   ]
  },
  {
   "cell_type": "code",
   "execution_count": 42,
   "metadata": {},
   "outputs": [
    {
     "data": {
      "text/plain": [
       "[196, 295, 394, 493, 592, 689, 691, 788, 790, 879, 887, 978, 986]"
      ]
     },
     "execution_count": 42,
     "metadata": {},
     "output_type": "execute_result"
    }
   ],
   "source": [
    "list(filter(lambda n: not palindromegenerator(n,500)[0], range(1,1001)))"
   ]
  },
  {
   "cell_type": "code",
   "execution_count": 43,
   "metadata": {},
   "outputs": [
    {
     "data": {
      "text/plain": [
       "<filter at 0x10fbf0390>"
      ]
     },
     "execution_count": 43,
     "metadata": {},
     "output_type": "execute_result"
    }
   ],
   "source": [
    "filter(lambda n: palindromegenerator(n,500)[0], range(1,1001))"
   ]
  },
  {
   "cell_type": "code",
   "execution_count": 46,
   "metadata": {},
   "outputs": [],
   "source": [
    "my_palindromes = list(filter(lambda n: palindromegenerator(n,500)[0], range(1,1001)))"
   ]
  },
  {
   "cell_type": "code",
   "execution_count": 47,
   "metadata": {},
   "outputs": [
    {
     "data": {
      "text/plain": [
       "987"
      ]
     },
     "execution_count": 47,
     "metadata": {},
     "output_type": "execute_result"
    }
   ],
   "source": [
    "len(my_palindromes)"
   ]
  },
  {
   "cell_type": "code",
   "execution_count": 48,
   "metadata": {},
   "outputs": [],
   "source": [
    "my_iters = list(map(lambda n: alt_palindromegenerator(n,500)[2], my_palindromes))"
   ]
  },
  {
   "cell_type": "code",
   "execution_count": 50,
   "metadata": {},
   "outputs": [
    {
     "data": {
      "text/plain": [
       "[<matplotlib.lines.Line2D at 0x1118829e8>]"
      ]
     },
     "execution_count": 50,
     "metadata": {},
     "output_type": "execute_result"
    },
    {
     "data": {
      "image/png": "[encoded data removed]",
      "text/plain": [
       "<Figure size 432x288 with 1 Axes>"
      ]
     },
     "metadata": {
      "needs_background": "light"
     },
     "output_type": "display_data"
    }
   ],
   "source": [
    "plt.plot(my_palindromes, my_iters)"
   ]
  },
  {
   "cell_type": "code",
   "execution_count": 56,
   "metadata": {},
   "outputs": [
    {
     "data": {
      "text/plain": [
       "0"
      ]
     },
     "execution_count": 56,
     "metadata": {},
     "output_type": "execute_result"
    }
   ],
   "source": [
    "len(list(filter(lambda n: 75<= palindromegenerator(n,200)[2] < 200, range(1,100001))))"
   ]
  },
  {
   "cell_type": "code",
   "execution_count": 59,
   "metadata": {},
   "outputs": [],
   "source": [
    "l = list(filter(lambda n: 50<= palindromegenerator(n,200)[2] < 200, range(1,100001)))"
   ]
  },
  {
   "cell_type": "code",
   "execution_count": 60,
   "metadata": {},
   "outputs": [
    {
     "data": {
      "text/plain": [
       "[10677,\n",
       " 10833,\n",
       " 10911,\n",
       " 11667,\n",
       " 11823,\n",
       " 11901,\n",
       " 12657,\n",
       " 12813,\n",
       " 13647,\n",
       " 13803,\n",
       " 14637,\n",
       " 15627,\n",
       " 16617,\n",
       " 17607,\n",
       " 20676,\n",
       " 20832,\n",
       " 20910,\n",
       " 21666,\n",
       " 21822,\n",
       " 21900,\n",
       " 22656,\n",
       " 22812,\n",
       " 23646,\n",
       " 23802,\n",
       " 24636,\n",
       " 25626,\n",
       " 26616,\n",
       " 27606,\n",
       " 30675,\n",
       " 30831,\n",
       " 31665,\n",
       " 31821,\n",
       " 32655,\n",
       " 32811,\n",
       " 33645,\n",
       " 33801,\n",
       " 34635,\n",
       " 35625,\n",
       " 36615,\n",
       " 37605,\n",
       " 40674,\n",
       " 40830,\n",
       " 41664,\n",
       " 41820,\n",
       " 42654,\n",
       " 42810,\n",
       " 43644,\n",
       " 43800,\n",
       " 44634,\n",
       " 45624,\n",
       " 46614,\n",
       " 47604,\n",
       " 50673,\n",
       " 51663,\n",
       " 52653,\n",
       " 53643,\n",
       " 54633,\n",
       " 55623,\n",
       " 56613,\n",
       " 57603,\n",
       " 60672,\n",
       " 61662,\n",
       " 62652,\n",
       " 63642,\n",
       " 64632,\n",
       " 65622,\n",
       " 66612,\n",
       " 67602,\n",
       " 70269,\n",
       " 70671,\n",
       " 71259,\n",
       " 71661,\n",
       " 72249,\n",
       " 72651,\n",
       " 73239,\n",
       " 73641,\n",
       " 74229,\n",
       " 74631,\n",
       " 75219,\n",
       " 75621,\n",
       " 76209,\n",
       " 76299,\n",
       " 76611,\n",
       " 77289,\n",
       " 77601,\n",
       " 78279,\n",
       " 79269,\n",
       " 80268,\n",
       " 80670,\n",
       " 81258,\n",
       " 81660,\n",
       " 82248,\n",
       " 82650,\n",
       " 83640,\n",
       " 84228,\n",
       " 84630,\n",
       " 85218,\n",
       " 85620,\n",
       " 86208,\n",
       " 86298,\n",
       " 86610,\n",
       " 87288,\n",
       " 87600,\n",
       " 88278,\n",
       " 89268,\n",
       " 90267,\n",
       " 91257,\n",
       " 92247,\n",
       " 93237,\n",
       " 94227,\n",
       " 95217,\n",
       " 96207,\n",
       " 96297,\n",
       " 97287,\n",
       " 98277,\n",
       " 99267]"
      ]
     },
     "execution_count": 60,
     "metadata": {},
     "output_type": "execute_result"
    }
   ],
   "source": [
    "l"
   ]
  },
  {
   "cell_type": "code",
   "execution_count": 61,
   "metadata": {},
   "outputs": [
    {
     "data": {
      "text/plain": [
       "55"
      ]
     },
     "execution_count": 61,
     "metadata": {},
     "output_type": "execute_result"
    }
   ],
   "source": [
    "max(palindromegenerator(n,200)[2] for n in l)"
   ]
  },
  {
   "cell_type": "code",
   "execution_count": 65,
   "metadata": {},
   "outputs": [],
   "source": [
    "pg = Palindrome_Generator(196,500)"
   ]
  },
  {
   "cell_type": "code",
   "execution_count": 66,
   "metadata": {},
   "outputs": [
    {
     "data": {
      "text/plain": [
       "196"
      ]
     },
     "execution_count": 66,
     "metadata": {},
     "output_type": "execute_result"
    }
   ],
   "source": [
    "pg.n"
   ]
  },
  {
   "cell_type": "code",
   "execution_count": 67,
   "metadata": {},
   "outputs": [
    {
     "data": {
      "text/plain": [
       "500"
      ]
     },
     "execution_count": 67,
     "metadata": {},
     "output_type": "execute_result"
    }
   ],
   "source": [
    "pg.k"
   ]
  },
  {
   "cell_type": "code",
   "execution_count": 68,
   "metadata": {},
   "outputs": [],
   "source": [
    "pg.calculate()"
   ]
  },
  {
   "cell_type": "code",
   "execution_count": 69,
   "metadata": {},
   "outputs": [
    {
     "data": {
      "text/plain": [
       "500"
      ]
     },
     "execution_count": 69,
     "metadata": {},
     "output_type": "execute_result"
    }
   ],
   "source": [
    "pg.i"
   ]
  },
  {
   "cell_type": "code",
   "execution_count": 70,
   "metadata": {},
   "outputs": [
    {
     "data": {
      "text/plain": [
       "False"
      ]
     },
     "execution_count": 70,
     "metadata": {},
     "output_type": "execute_result"
    }
   ],
   "source": [
    "pg._ispalindrome"
   ]
  },
  {
   "cell_type": "code",
   "execution_count": 71,
   "metadata": {},
   "outputs": [
    {
     "data": {
      "text/plain": [
       "931423633824289735373068912980022207417878996006463505496394221534435934470613658741952102416192959097792354454298681058301624201150137856317064440634435122492605494375600699878703812220089208969284526982429436324128"
      ]
     },
     "execution_count": 71,
     "metadata": {},
     "output_type": "execute_result"
    }
   ],
   "source": [
    "pg.pnum"
   ]
  },
  {
   "cell_type": "code",
   "execution_count": 79,
   "metadata": {},
   "outputs": [
    {
     "name": "stdout",
     "output_type": "stream",
     "text": [
      "702 ms ± 76.5 ms per loop (mean ± std. dev. of 7 runs, 5 loops each)\n"
     ]
    }
   ],
   "source": [
    "%timeit -n5 [alt_palindromegenerator(n,500) for n in range(1,10000)]"
   ]
  },
  {
   "cell_type": "code",
   "execution_count": 78,
   "metadata": {},
   "outputs": [
    {
     "name": "stdout",
     "output_type": "stream",
     "text": [
      "612 ms ± 13.4 ms per loop (mean ± std. dev. of 7 runs, 5 loops each)\n"
     ]
    }
   ],
   "source": [
    "%timeit -n5 [palindromegenerator(n,500) for n in range(1,10000)]"
   ]
  },
  {
   "cell_type": "code",
   "execution_count": null,
   "metadata": {},
   "outputs": [],
   "source": []
  }
 ],
 "metadata": {
  "kernelspec": {
   "display_name": "Python 3",
   "language": "python",
   "name": "python3"
  },
  "language_info": {
   "codemirror_mode": {
    "name": "ipython",
    "version": 3
   },
   "file_extension": ".py",
   "mimetype": "text/x-python",
   "name": "python",
   "nbconvert_exporter": "python",
   "pygments_lexer": "ipython3",
   "version": "3.7.3"
  },
  "org": null
 },
 "nbformat": 4,
 "nbformat_minor": 1
}
