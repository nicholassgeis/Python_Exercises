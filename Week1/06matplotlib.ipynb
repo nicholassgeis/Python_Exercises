{
 "cells": [
  {
   "cell_type": "markdown",
   "metadata": {},
   "source": [
    "In what follows, we&rsquo;ll want to rely on some common packages.  Execute\n",
    "the following cell.\n",
    "\n"
   ]
  },
  {
   "cell_type": "code",
   "execution_count": 1,
   "metadata": {},
   "outputs": [],
   "source": [
    "%matplotlib inline\n",
    "import matplotlib.pyplot as plt\n",
    "import math"
   ]
  },
  {
   "cell_type": "markdown",
   "metadata": {},
   "source": [
    "By importing `matplotlib.pyplot` we gain access to a collection of\n",
    "functions that make matplotlib work like MATLAB, meaning a &ldquo;state\n",
    "machine&rdquo; in which each pyplot function makes some change to a figure\n",
    "like creating a figure, creating a plotting area in a figure, plotting\n",
    "some lines in a plotting area, decorating the plot with labels, and so\n",
    "on.\n",
    "\n",
    "Note that `matplotlib.pyplot` means we are only importing a specific\n",
    "module from `matplotlib` rather than \\*all~ the modules.\n",
    "\n"
   ]
  },
  {
   "cell_type": "markdown",
   "metadata": {},
   "source": [
    "## A first plot\n",
    "\n"
   ]
  },
  {
   "cell_type": "markdown",
   "metadata": {},
   "source": [
    "Let&rsquo;s try making a first plot.\n",
    "\n"
   ]
  },
  {
   "cell_type": "code",
   "execution_count": 2,
   "metadata": {},
   "outputs": [
    {
     "data": {
      "image/png": "[encoded data removed]",
      "text/plain": [
       "<Figure size 432x288 with 1 Axes>"
      ]
     },
     "metadata": {
      "needs_background": "light"
     },
     "output_type": "display_data"
    }
   ],
   "source": [
    "plt.plot([1, 2, 4, 9])\n",
    "plt.ylabel('a label on the y-axis')\n",
    "plt.show()"
   ]
  },
  {
   "cell_type": "markdown",
   "metadata": {},
   "source": [
    "You may be wondering: Why does the $x$-axis range from zero to three?\n",
    "If you provide a single list to the `plot()` command, `matplotlib`\n",
    "assumes it is a sequence of $y$ values and automatically generates the\n",
    "corresponding $x$ values for you, using the usual pythonic convention\n",
    "that indexing starts at 0.\n",
    "\n",
    "To fix this, try the following:\n",
    "\n"
   ]
  },
  {
   "cell_type": "code",
   "execution_count": 1,
   "metadata": {},
   "outputs": [],
   "source": [
    "plt.plot([1, 2, 3, 4], [1, 2, 4, 9])\n",
    "plt.show()"
   ]
  },
  {
   "cell_type": "markdown",
   "metadata": {},
   "source": [
    "Try plotting sine by executing the following.\n",
    "\n"
   ]
  },
  {
   "cell_type": "code",
   "execution_count": 1,
   "metadata": {},
   "outputs": [],
   "source": [
    "plt.plot([1, 2, 3, 4, 5, 6], [math.sin(1), math.sin(2), math.sin(3), math.sin(4), math.sin(5), math.sin(6)])\n",
    "plt.show()"
   ]
  },
  {
   "cell_type": "markdown",
   "metadata": {},
   "source": [
    "Clearly six points is not enough.  Your task is to make a nicer plot\n",
    "of $y = \\sin x$.\n",
    "\n"
   ]
  }
 ],
 "metadata": {
  "kernelspec": {
   "display_name": "Python 3",
   "language": "python",
   "name": "python3"
  },
  "language_info": {
   "codemirror_mode": {
    "name": "ipython",
    "version": 3
   },
   "file_extension": ".py",
   "mimetype": "text/x-python",
   "name": "python",
   "nbconvert_exporter": "python",
   "pygments_lexer": "ipython3",
   "version": "3.7.3"
  },
  "org": null
 },
 "nbformat": 4,
 "nbformat_minor": 1
}
