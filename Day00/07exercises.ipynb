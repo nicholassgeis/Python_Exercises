{
 "cells": [
  {
   "cell_type": "markdown",
   "metadata": {},
   "source": [
    "Executing cells is not the same as learning.  Now is the time for you\n",
    "to truly learn by writing some code on your own.  You can add your own\n",
    "cells to this worksheet, save your work, and then commit your\n",
    "solutions to a fork of our class repo.\n",
    "\n",
    "****Warning:**** Depending on your background, you may feel you are\n",
    "unprepared for this task.  **Make as much progress as you can.** The\n",
    "good news is that with Google, StackOverflow, etc., you are more\n",
    "powerful than you know.  Leverage the resources at your disposal to\n",
    "make the most of our short time together.\n",
    "\n"
   ]
  },
  {
   "cell_type": "markdown",
   "metadata": {},
   "source": [
    "## Exercise 1.1\n",
    "\n"
   ]
  },
  {
   "cell_type": "markdown",
   "metadata": {},
   "source": [
    "For a list `L`, what is the meaning of `L[-1]`, `L[-2]`, `L[1:3]`,\n",
    "`L[:]`, `L[-3:-1]`, `L[-2:]`, `L[::-1]`?  Explore this by building\n",
    "some lists and executing cells right here in this Jupyter notebook.\n",
    "(If you get stuck, search for **slicing**.)\n",
    "\n"
   ]
  },
  {
   "cell_type": "markdown",
   "metadata": {},
   "source": [
    "## Exercise 1.2\n",
    "\n"
   ]
  },
  {
   "cell_type": "markdown",
   "metadata": {},
   "source": [
    "Define a function `digits()` which takes a positive integer and\n",
    "returns the number of digits in its decimal expansion.  For instance,\n",
    "`digits(321)` evaluates to `3`.\n",
    "\n",
    "How many digits are in the decimal expansion of `2**1000`?\n",
    "\n"
   ]
  },
  {
   "cell_type": "code",
   "execution_count": 10,
   "metadata": {},
   "outputs": [],
   "source": [
    "import math\n",
    "\n",
    "def digits(num):\n",
    "    \n",
    "    #This computes the number of digits in a very mathematical way using log_10 and taking the floor of the result\n",
    "    \n",
    "    return math.floor(math.log10(num)) + 1\n"
   ]
  },
  {
   "cell_type": "markdown",
   "metadata": {},
   "source": [
    "## Exercise 1.3\n",
    "\n"
   ]
  },
  {
   "cell_type": "markdown",
   "metadata": {},
   "source": [
    "Define `harmonic` so that `harmonic(n)` is the sum of the first `n`\n",
    "terms of the harmonic series, i.e., `harmonic(4)` equals $1 + \\frac{1}{2} + \\frac{1}{3} + \\frac{1}{4}$.\n",
    "\n"
   ]
  },
  {
   "cell_type": "code",
   "execution_count": 11,
   "metadata": {},
   "outputs": [],
   "source": [
    "def harmonic(n):\n",
    "    \n",
    "    #This variable will store the numbers we add\n",
    "    series = 0\n",
    "    \n",
    "    #This for loop will add the fractions together\n",
    "    for k in range(1, n+1):   \n",
    "        series = series + (1/k)\n",
    "        \n",
    "    return series\n",
    "     "
   ]
  },
  {
   "cell_type": "markdown",
   "metadata": {},
   "source": [
    "## Exercise 1.4\n",
    "\n"
   ]
  },
  {
   "cell_type": "markdown",
   "metadata": {},
   "source": [
    "Define a function `uniqued` which takes a list and removes all\n",
    "repeated entries.  For instance, `uniqued([1,5,1,4])` equals `[1,5,4]`.\n",
    "\n"
   ]
  },
  {
   "cell_type": "markdown",
   "metadata": {},
   "source": [
    "## Exercise 1.5\n",
    "\n"
   ]
  },
  {
   "cell_type": "markdown",
   "metadata": {},
   "source": [
    "Explain what is happening in the code below (e.g., what does this say about **associativity** of `+`?)\n",
    "\n"
   ]
  },
  {
   "cell_type": "code",
   "execution_count": 1,
   "metadata": {},
   "outputs": [],
   "source": [
    "eps = 1.0\n",
    "while 1.0 + eps != 1.0:\n",
    "    eps = eps / 2.0\n",
    "print(1.0 + (eps - eps))\n",
    "print((1.0 + eps) - eps)"
   ]
  },
  {
   "cell_type": "markdown",
   "metadata": {},
   "source": [
    "If you (don&rsquo;t?) like this, you might enjoy reading \\*[What Every\n",
    "Computer Scientist Should Know About Floating-Point\n",
    "Arithmetic]([https://docs.oracle.com/cd/E19957-01/806-3568/ncg_goldberg.html](https://docs.oracle.com/cd/E19957-01/806-3568/ncg_goldberg.html))\\*.\n",
    "\n"
   ]
  },
  {
   "cell_type": "markdown",
   "metadata": {},
   "source": [
    "## Exercise 1.6\n",
    "\n"
   ]
  },
  {
   "cell_type": "markdown",
   "metadata": {},
   "source": [
    "Write a function `is_palindrome` which takes a string and returns\n",
    "`True` if it is a palindrome, and `False` if not.  Find an English\n",
    "word list (such as [https://github.com/dwyl/english-words>](https://github.com/dwyl/english-words>)which\n",
    "includes some Python examples) to find English palindromes.\n",
    "\n",
    "There are many entertaining games to play with word lists.  Find more\n",
    "examples of words like **almost** and **wronged** whose letters are in\n",
    "alphabetical or reverse-alphabetic order.  Is the spelling &ldquo;rule&rdquo; **i\n",
    "before e except after c** valid?  Can you make a histogram showing\n",
    "frequency of letters in English words?  How might you visualize\n",
    "frequency of pairs of letters?\n",
    "\n"
   ]
  },
  {
   "cell_type": "markdown",
   "metadata": {},
   "source": [
    "## Exercise 1.7\n",
    "\n"
   ]
  },
  {
   "cell_type": "markdown",
   "metadata": {},
   "source": [
    "Define a function `flip` which takes an integer and reverses its\n",
    "digits, so that `flip(17)` evaluates to `71`.  By repeatedly replacing\n",
    "`x` with `x + flip(x)`, we often find palindromic numbers this way,\n",
    "e.g., 192 + 291 is 483, and 483 + 384 is 867, and and 867 + 768 is\n",
    "1635, and 1635 + 5361 is 6996, a palindrome!  Experimentally, does\n",
    "this always happen?  For fun, use `matplotlib` to make some graphs.\n",
    "\n",
    "This exercise is designed for you to worry about types, e.g., `'17' +\n",
    "'71'` equals `'1771'` because strings are concatenated with plus.\n",
    "\n"
   ]
  },
  {
   "cell_type": "code",
   "execution_count": 12,
   "metadata": {},
   "outputs": [],
   "source": [
    "import matplotlib.pyplot as plt\n",
    "\n",
    "#This function will be the flip function that takes numbers to their flips, i.e. 17 -> 71\n",
    "def flip(n):\n",
    "    \n",
    "    strn = str(n)\n",
    "\n",
    "    return int(strn[::-1])\n",
    "\n",
    "#This function determines if a number is a palindromic number. It outputs boolean values\n",
    "def ispalindrome(n):\n",
    "    \n",
    "    if n == flip(n):\n",
    "        return True\n",
    "    \n",
    "    return False\n",
    "\n",
    "#This function 3 pieces of data: [number, palindromic number, number of steps]\n",
    "#Essentially, we take a number n and perform the palindromic iteration process until we hit a palindromic number\n",
    "#We also take one more input k that will serve as a terminating point in the iterating process if we fail to hit a\n",
    "#palindromic number\n",
    "def palindromegenerator(n, k):\n",
    "    \n",
    "    #lst represents the data we are looking for, i counts the number of iterations of the palindromic search process\n",
    "    #and pnum is the number that will eventually turn into a palindromic number\n",
    "    lst = [n]\n",
    "    i = 0\n",
    "    pnum = n\n",
    "    \n",
    "    #This while loop checks to make sure we have not iterated the process too far and that pnum is not a palindromic\n",
    "    #number. Otherwise, once we go far enough or find a palindromic number we spit out our answer\n",
    "    while ((i < k) and (pnum != flip(pnum))):\n",
    "        pnum = pnum + flip(pnum)\n",
    "        i = i + 1\n",
    "    \n",
    "    lst.append(pnum)\n",
    "    lst.append(i)\n",
    "    \n",
    "    return lst\n",
    "\n",
    "#This function outputs a plot that looks numbers up to x versus the number of iterations of the palindromic process\n",
    "#to eventually hit a palindromic number. AGAIN recall that this will only go up to some specified k in case a number\n",
    "#never becomes palindromic\n",
    "def plotpalindromic(x, k):\n",
    "    \n",
    "    #These lists are the lists we will be cross-plotting\n",
    "    numlst = []\n",
    "    iterationlst = []\n",
    "    \n",
    "    #This \"for\" loop computes palindromegenerator(n, k) to get the data for the number of iterations and then adds it to\n",
    "    #iterationlst\n",
    "    for n in range(1, x + 1):\n",
    "    \n",
    "        numlst.append(n)\n",
    "        iterationlst.append(palindromegenerator(n, k)[2])\n",
    "     \n",
    "    #This final bit adds generates the plot we want\n",
    "    plt.plot(numlst, iterationlst)\n",
    "    plt.xlabel('natural numbers')\n",
    "    plt.ylabel('number of iterations')\n",
    "    plt.show()\n",
    "    \n",
    "#We call numbers that are not palindromic LYCHREL NUMBERS. So it would be great to have a function that \n",
    "#creates a list of potential Lychrel numbers up to a number x. Again, we will only compute up to a certain iteration number. So the\n",
    "#list will depend on that threshold.\n",
    "def lychrelnumberlst(x, k):\n",
    "    \n",
    "    lst = []\n",
    "    \n",
    "    for n in range(1, x + 1):\n",
    "        if palindromegenerator(n, k)[2] == k:\n",
    "            lst.append(n)\n",
    "    \n",
    "    return lst\n",
    "\n",
    "#Notice that if we take a potential lychrel number, say 196, every iteration of the palindromic process will create\n",
    "#another lychrel number. We call the initial numbers of such chains the ROOT lychrel number. So it would be great to\n",
    "#have a function that will generate a list of root lychrel numbers.\n",
    "def rootlychrelnumberlst(x, k):\n",
    "    \n",
    "    rootlst = []\n",
    "    lst = lychrelnumberlst(x, k)\n",
    "    \n",
    "    #The idea behind this algorithm is to add the smallest element of the list of lychrel numbers (which is a root\n",
    "    #lychrel number) to a list of all the roots. Then remove all the numbers that are just iterations of that root from\n",
    "    #the list of all lychrel numbers. We iterate this process until the list of all lychrel numbers up to x is\n",
    "    #exhausted.\n",
    "    while len(lst) > 0:\n",
    "        \n",
    "        #We set mlychrel to be the smallest lychrel number we have and add it to our root list\n",
    "        mlychrel = min(lst)\n",
    "        rootlst.append(mlychrel)\n",
    "        \n",
    "        #This \"while\" loop removes all the iterations of our root lychrel number from the list of all lychrel numbers\n",
    "        while mlychrel <= max(lst):\n",
    "            \n",
    "            if mlychrel in lst:\n",
    "                lst.remove(mlychrel)\n",
    "            \n",
    "            mlychrel = mlychrel + flip(mlychrel)\n",
    "            \n",
    "            #This \"if\" line addresses an edge case where the last element of a list is removed inside the while loop.\n",
    "            #If this happens, then max(lst) will\n",
    "            if len(lst) == 0:\n",
    "                break\n",
    "            \n",
    "    return rootlst\n",
    "   "
   ]
  },
  {
   "cell_type": "code",
   "execution_count": 6,
   "metadata": {},
   "outputs": [
    {
     "data": {
      "text/plain": [
       "[196, 295, 394, 493, 592, 689, 691, 788, 790, 879, 887, 978, 986]"
      ]
     },
     "execution_count": 6,
     "metadata": {},
     "output_type": "execute_result"
    }
   ],
   "source": [
    "rootlychrelnumberlst()"
   ]
  },
  {
   "cell_type": "code",
   "execution_count": 13,
   "metadata": {},
   "outputs": [
    {
     "data": {
      "text/plain": [
       "[196, 295, 394, 493, 592, 689, 691, 788, 790, 879, 978, 986]"
      ]
     },
     "execution_count": 13,
     "metadata": {},
     "output_type": "execute_result"
    }
   ],
   "source": [
    "rootlychrelnumberlst(1000, 500)"
   ]
  },
  {
   "cell_type": "code",
   "execution_count": 9,
   "metadata": {},
   "outputs": [
    {
     "data": {
      "text/plain": [
       "False"
      ]
     },
     "execution_count": 9,
     "metadata": {},
     "output_type": "execute_result"
    }
   ],
   "source": [
    "5 in [1,2,3,4]"
   ]
  },
  {
   "cell_type": "code",
   "execution_count": null,
   "metadata": {},
   "outputs": [],
   "source": []
  }
 ],
 "metadata": {
  "kernelspec": {
   "display_name": "Python 3",
   "language": "python",
   "name": "python3"
  },
  "language_info": {
   "codemirror_mode": {
    "name": "ipython",
    "version": 3
   },
   "file_extension": ".py",
   "mimetype": "text/x-python",
   "name": "python",
   "nbconvert_exporter": "python",
   "pygments_lexer": "ipython3",
   "version": "3.7.3"
  },
  "org": null
 },
 "nbformat": 4,
 "nbformat_minor": 1
}
